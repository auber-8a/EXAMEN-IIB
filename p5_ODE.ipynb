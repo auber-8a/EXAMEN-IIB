{
 "cells": [
  {
   "cell_type": "code",
   "execution_count": 1,
   "metadata": {},
   "outputs": [],
   "source": [
    "%load_ext autoreload"
   ]
  },
  {
   "cell_type": "markdown",
   "metadata": {},
   "source": [
    "# ODE"
   ]
  },
  {
   "cell_type": "markdown",
   "metadata": {},
   "source": [
    "## Ejercicio 1\n",
    "$y'= -5y+5t^2+2t$\n",
    "* $0 \\le t \\le 1$\n",
    "* $y(t_0)=1/3$\n",
    "* $N=10$\n",
    "\n"
   ]
  },
  {
   "cell_type": "code",
   "execution_count": 2,
   "metadata": {},
   "outputs": [
    {
     "name": "stdout",
     "output_type": "stream",
     "text": [
      "[02-06 12:42:07][INFO] 2025-02-06 12:42:07.906409\n",
      "[02-06 12:42:08][INFO] auber| 2025-02-06 12:42:08.129507\n",
      "[02-06 12:42:08][INFO] 2025-02-06 12:42:08.189378\n",
      "[02-06 12:42:08][INFO] auber| 2025-02-06 12:42:08.202981\n"
     ]
    }
   ],
   "source": [
    "%autoreload 2\n",
    "from src import ODE_euler\n"
   ]
  },
  {
   "cell_type": "markdown",
   "metadata": {},
   "source": [
    "## Comparación con la solución real\n",
    "La solución real de la ecuación diferencial es:\n",
    "$y(t)=t^2 +1/3e^{-5t}$\n",
    "\n",
    "* Grafique la solución real y la aproximación obtenida con el método de Euler en una misma gráfica.\n",
    "\n"
   ]
  },
  {
   "cell_type": "code",
   "execution_count": null,
   "metadata": {},
   "outputs": [],
   "source": [
    "import matplotlib.pyplot as plt\n",
    "import numpy as np\n",
    "\n",
    "# Definir la función analítica\n",
    "def solucion_analitica(t):\n",
    "    return (t + 1)**2 - 0.5 * np.exp(t)\n",
    "\n",
    "# Calcular la solución analítica en los puntos ts\n",
    "ys_analitica = [solucion_analitica(t) for t in ts]\n",
    "\n",
    "# Graficar los resultados\n",
    "plt.plot(ts, ys, 'o-', label='Método de Euler')\n",
    "plt.plot(ts, ys_analitica, 'x-', label='Funcion REAL')\n",
    "plt.xlabel('t')\n",
    "plt.ylabel('y')\n",
    "plt.title('Solución ODE usando el método de Euler vs Solución Analítica')\n",
    "plt.legend()\n",
    "plt.grid(True)\n",
    "plt.show()"
   ]
  },
  {
   "cell_type": "markdown",
   "metadata": {},
   "source": [
    "# Errores\n",
    "Calcule el eeror relativo para diferentes valores de N."
   ]
  },
  {
   "cell_type": "code",
   "execution_count": 25,
   "metadata": {},
   "outputs": [],
   "source": [
    "# Calcular error relativo"
   ]
  }
 ],
 "metadata": {
  "kernelspec": {
   "display_name": "Python 3",
   "language": "python",
   "name": "python3"
  },
  "language_info": {
   "codemirror_mode": {
    "name": "ipython",
    "version": 3
   },
   "file_extension": ".py",
   "mimetype": "text/x-python",
   "name": "python",
   "nbconvert_exporter": "python",
   "pygments_lexer": "ipython3",
   "version": "3.13.2"
  }
 },
 "nbformat": 4,
 "nbformat_minor": 2
}
